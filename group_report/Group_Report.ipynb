{
 "cells": [
  {
   "cell_type": "markdown",
   "id": "ec0ea949-5b60-49a1-a009-37a691155a49",
   "metadata": {},
   "source": [
    "## Group Report"
   ]
  },
  {
   "cell_type": "markdown",
   "id": "1ae850a0-db2e-4ffc-a797-2c1cb001db2e",
   "metadata": {},
   "source": [
    "## Introduction"
   ]
  },
  {
   "cell_type": "code",
   "execution_count": null,
   "id": "6f778f21-6d1b-47d8-b6fd-50fc4f6dcdc3",
   "metadata": {},
   "outputs": [],
   "source": []
  },
  {
   "cell_type": "markdown",
   "id": "1f83d1b8-ddd3-492d-8263-f514fed5886a",
   "metadata": {},
   "source": [
    "Methods and Results**"
   ]
  },
  {
   "cell_type": "markdown",
   "id": "4eda69fb-a560-4efc-b70a-dfddffe539d5",
   "metadata": {},
   "source": [
    "**Discussion**"
   ]
  },
  {
   "cell_type": "markdown",
   "id": "5e256c39-ac15-47c0-b135-38f71e306c6b",
   "metadata": {},
   "source": [
    "**References**"
   ]
  },
  {
   "cell_type": "code",
   "execution_count": null,
   "id": "ebc53ba9-aa68-4a68-a7ca-2785ed2a1f76",
   "metadata": {},
   "outputs": [],
   "source": []
  }
 ],
 "metadata": {
  "kernelspec": {
   "display_name": "R",
   "language": "R",
   "name": "ir"
  },
  "language_info": {
   "codemirror_mode": "r",
   "file_extension": ".r",
   "mimetype": "text/x-r-source",
   "name": "R",
   "pygments_lexer": "r",
   "version": "4.3.1"
  }
 },
 "nbformat": 4,
 "nbformat_minor": 5
}
