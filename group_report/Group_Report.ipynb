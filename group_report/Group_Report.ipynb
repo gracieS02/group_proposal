{
 "cells": [
  {
   "cell_type": "markdown",
   "id": "ec0ea949-5b60-49a1-a009-37a691155a49",
   "metadata": {},
   "source": [
    "## Group Report"
   ]
  },
  {
   "cell_type": "markdown",
   "id": "1ae850a0-db2e-4ffc-a797-2c1cb001db2e",
   "metadata": {},
   "source": [
    "## Introduction"
   ]
  },
  {
   "cell_type": "markdown",
   "id": "7da27665-c498-4641-8c04-efd5cb0e8238",
   "metadata": {},
   "source": [
    "For our data analysis, we will look at the two predictors of resting blood pressure and maximum heart rate. High resting blood pressure has been shown to cause heart disease in several ways, such as left ventricular hypertrophy, which can reduce the function of the heart. 120/80 is the optimal blood pressure of humans. Maximum heart rate achieved during exercise has been demonstrated to be inversely linked to the chances of one developing heart disease as it represents the fitness of one's heart and the ability to handle exercise. Therefore, our question is, how does resting blood pressure and maximum heart rate influence the diagnosis of heart disease, and are they major contributors? \n",
    "    \n",
    "We’re using preprocessed data from the Cleveland database on heart disease,  originally containing 76 attributes, but we chose from a subset of 14. The 14 attributes include ‘age’, ‘sex’, ‘cp’ or chest pain, ‘trestbps’ or resting blood pressure on admission to the hospital, ‘chol’ or serum cholesterol, ‘fbs’ or fasting blood sugar 120 mg/dl, ‘restecg’ or resting electrocardiographic results, ‘thalac’ or maximum heart rate achieved, ‘exang’ or exercise induced angina, ’oldpeak’ or ST depression induced by exercise relative to rest, ‘slope’ the slope of the peak exercise ST segment, ‘ca’ or number of major vessels (0-3) colored by fluorosopy, ‘thal’: 3 = normal; 6 = fixed defect; 7 = reversible defect, and ‘num’ or diagnosis of heart disease. \n"
   ]
  },
  {
   "cell_type": "markdown",
   "id": "1f83d1b8-ddd3-492d-8263-f514fed5886a",
   "metadata": {},
   "source": [
    "## Methods and Results"
   ]
  },
  {
   "cell_type": "markdown",
   "id": "4eda69fb-a560-4efc-b70a-dfddffe539d5",
   "metadata": {},
   "source": [
    "## Discussion"
   ]
  },
  {
   "cell_type": "markdown",
   "id": "5e256c39-ac15-47c0-b135-38f71e306c6b",
   "metadata": {},
   "source": [
    "## References"
   ]
  },
  {
   "cell_type": "code",
   "execution_count": null,
   "id": "ebc53ba9-aa68-4a68-a7ca-2785ed2a1f76",
   "metadata": {},
   "outputs": [],
   "source": []
  }
 ],
 "metadata": {
  "kernelspec": {
   "display_name": "R",
   "language": "R",
   "name": "ir"
  },
  "language_info": {
   "codemirror_mode": "r",
   "file_extension": ".r",
   "mimetype": "text/x-r-source",
   "name": "R",
   "pygments_lexer": "r",
   "version": "4.3.1"
  }
 },
 "nbformat": 4,
 "nbformat_minor": 5
}
