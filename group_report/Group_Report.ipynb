{
 "cells": [
  {
   "cell_type": "markdown",
   "id": "ec0ea949-5b60-49a1-a009-37a691155a49",
   "metadata": {},
   "source": [
    "## Group Report"
   ]
  },
  {
   "cell_type": "code",
   "execution_count": null,
   "id": "e48f654c-6768-4169-af6a-35f7ee1769fe",
   "metadata": {},
   "outputs": [],
   "source": []
  }
 ],
 "metadata": {
  "kernelspec": {
   "display_name": "R",
   "language": "R",
   "name": "ir"
  },
  "language_info": {
   "codemirror_mode": "r",
   "file_extension": ".r",
   "mimetype": "text/x-r-source",
   "name": "R",
   "pygments_lexer": "r",
   "version": "4.3.1"
  }
 },
 "nbformat": 4,
 "nbformat_minor": 5
}
